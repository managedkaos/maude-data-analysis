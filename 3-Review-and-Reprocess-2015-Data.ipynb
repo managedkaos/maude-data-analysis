{
 "cells": [
  {
   "cell_type": "code",
   "execution_count": 1,
   "metadata": {},
   "outputs": [],
   "source": [
    "import os\n",
    "\n",
    "# Identify the data directory and working directory\n",
    "data_directory = './data'\n",
    "working_directory = './2015_reprocessed'\n",
    "\n",
    "# Create the working directory if needed\n",
    "try:\n",
    "    os.makedirs(working_directory, exist_ok=True)\n",
    "except OSError as error:\n",
    "    print(f\"Error creating {working_directory}: {error}\")"
   ]
  },
  {
   "cell_type": "code",
   "execution_count": 2,
   "metadata": {},
   "outputs": [
    {
     "name": "stdout",
     "output_type": "stream",
     "text": [
      "Unzipping foidevproblem.zip\n",
      "Unzipping deviceproblemcodes.zip\n",
      "Unzipping foitext2015.zip\n",
      "Unzipping device2015.zip\n",
      "Unzipping mdrfoithru2021.zip\n",
      "Unzip complete.\n"
     ]
    }
   ],
   "source": [
    "from zipfile import ZipFile\n",
    "\n",
    "# Identify the data directory, working directory, and data files\n",
    "data_directory = './data'\n",
    "working_directory = './2015_Reprocessed'\n",
    "\n",
    "data_files = [\n",
    "    'foidevproblem.zip',       # 1\n",
    "    'deviceproblemcodes.zip',  # 2\n",
    "    'foitext2015.zip',         # 3\n",
    "    'device2015.zip',          # 4\n",
    "    'mdrfoithru2021.zip'       # 5\n",
    "]\n",
    "\n",
    "# Unzip the data files into the working directory\n",
    "for i in data_files:\n",
    "    print(f\"Unzipping {i}\")\n",
    "    with ZipFile(f\"{data_directory}/{i}\", \"r\") as zip:\n",
    "        zip.extractall(f\"{working_directory}\")\n",
    "\n",
    "print(\"Unzip complete.\")\n",
    "\n",
    "# Change file names in working directory to lower case\n",
    "for file in os.listdir(working_directory):\n",
    "        os.rename(f\"{working_directory}/{file}\", f\"{working_directory}/{file.lower()}\")\n"
   ]
  },
  {
   "cell_type": "code",
   "execution_count": 3,
   "metadata": {},
   "outputs": [
    {
     "name": "stderr",
     "output_type": "stream",
     "text": [
      "/var/folders/12/zfq9jlbn7pj6kffqfjsrs8fc0000gp/T/ipykernel_70623/2664046514.py:7: DtypeWarning: Columns (1) have mixed types. Specify dtype option on import or set low_memory=False.\n",
      "  foidevproblem = pd.read_csv(f\"{working_directory}/foidevproblem.txt\",\n"
     ]
    },
    {
     "name": "stdout",
     "output_type": "stream",
     "text": [
      "combined_foidevproblem data frame creation complete: (14916688, 2)\n"
     ]
    }
   ],
   "source": [
    "import pandas as pd\n",
    "import csv\n",
    "\n",
    "working_directory = './2015_reprocessed'\n",
    "\n",
    "# Read the foidevproblem and deviceproblemcodes files into data frames\n",
    "foidevproblem = pd.read_csv(f\"{working_directory}/foidevproblem.txt\", \n",
    "        sep=\"|\", \n",
    "        encoding=\"ISO-8859-1\", \n",
    "        on_bad_lines='warn', \n",
    "        quoting=csv.QUOTE_NONE, \n",
    "        names=[\"MDR_REPORT_KEY\",\"DEVICE_PROBLEM_CODE\"], # This names the columns manually\n",
    "        header=None)\n",
    "\n",
    "deviceproblemcodes = pd.read_csv(f\"{working_directory}/deviceproblemcodes.txt\", \n",
    "        sep=\"|\", \n",
    "        encoding=\"ISO-8859-1\", \n",
    "        on_bad_lines='warn', \n",
    "        quoting=csv.QUOTE_NONE,\n",
    "        names=[\"DEVICE_PROBLEM_CODE\",\"DEVICE_PROBLEM_TEXT\"], # This names the columns manually\n",
    "        header=None)\n",
    "\n",
    "# Use an inner join to combine the device code data frames on the 'DEVICE_PROBLEM_CODE' column\n",
    "# The new data frame will include: \n",
    "#       MDR_REPORT_KEY\n",
    "#       DEVICE_PROBLEM_CODE\n",
    "#       DEVICE_PROBLEM_TEXT\n",
    "combined_foidevproblem = pd.merge(\n",
    "        foidevproblem, \n",
    "        deviceproblemcodes, \n",
    "        on=\"DEVICE_PROBLEM_CODE\", \n",
    "        how=\"inner\")\n",
    "\n",
    "combined_foidevproblem.set_index('MDR_REPORT_KEY', inplace=True)\n",
    "\n",
    "print(f\"combined_foidevproblem data frame creation complete: {combined_foidevproblem.shape}\")"
   ]
  },
  {
   "cell_type": "code",
   "execution_count": 4,
   "metadata": {},
   "outputs": [
    {
     "name": "stdout",
     "output_type": "stream",
     "text": [
      "foitext2015 data frame creation complete: (2074007, 5)\n"
     ]
    }
   ],
   "source": [
    "import pandas as pd\n",
    "import csv\n",
    "\n",
    "# Identify the working directory\n",
    "working_directory = './2015_reprocessed'\n",
    "\n",
    "# Create a dataframe for the device file\n",
    "foitext2015 = pd.read_csv(f\"{working_directory}/foitext2015.txt\",\n",
    "        sep=\"|\", \n",
    "        encoding=\"ISO-8859-1\", \n",
    "        on_bad_lines='warn', \n",
    "        quoting=csv.QUOTE_NONE)\n",
    "\n",
    "foitext2015.set_index('MDR_REPORT_KEY', inplace=True)\n",
    "foitext2015.fillna('', inplace=True)\n",
    "\n",
    "print(f\"foitext2015 data frame creation complete: {foitext2015.shape}\")"
   ]
  },
  {
   "cell_type": "code",
   "execution_count": 5,
   "metadata": {},
   "outputs": [
    {
     "name": "stdout",
     "output_type": "stream",
     "text": [
      "device2015 data frame creation complete: (862585, 7)\n"
     ]
    }
   ],
   "source": [
    "import pandas as pd\n",
    "import csv\n",
    "\n",
    "# Identify the working directory\n",
    "working_directory = './2015_reprocessed'\n",
    "\n",
    "# Create a dataframe for the device file\n",
    "device2015 = pd.read_csv(f\"{working_directory}/device2015.txt\",\n",
    "        sep=\"|\", \n",
    "        encoding=\"ISO-8859-1\", \n",
    "        on_bad_lines='warn', \n",
    "        quoting=csv.QUOTE_NONE)\n",
    "\n",
    "device2015.set_index('MDR_REPORT_KEY', inplace=True)\n",
    "\n",
    "# Remove the unwanted columns from the device dataframe\n",
    "unwanted_columns = [\n",
    "    'DEVICE_EVENT_KEY',\n",
    "    'IMPLANT_FLAG',\n",
    "    'DATE_REMOVED_FLAG',\n",
    "    'DATE_RECEIVED',\n",
    "    'MANUFACTURER_D_ADDRESS_1',\n",
    "    'MANUFACTURER_D_ADDRESS_2',\n",
    "    'MANUFACTURER_D_CITY',\n",
    "    'MANUFACTURER_D_STATE_CODE',\n",
    "    'MANUFACTURER_D_ZIP_CODE',\n",
    "    'MANUFACTURER_D_ZIP_CODE_EXT',\n",
    "    'MANUFACTURER_D_COUNTRY_CODE',\n",
    "    'MANUFACTURER_D_POSTAL_CODE',\n",
    "    'DEVICE_OPERATOR',\n",
    "    'EXPIRATION_DATE_OF_DEVICE',\n",
    "    'CATALOG_NUMBER',\n",
    "    'LOT_NUMBER',\n",
    "    'OTHER_ID_NUMBER',\n",
    "    'DATE_RETURNED_TO_MANUFACTURER',\n",
    "    'DEVICE_AGE_TEXT',\n",
    "    'DEVICE_EVALUATED_BY_MANUFACTUR',\n",
    "    'COMBINATION_PRODUCT_FLAG']\n",
    "\n",
    "device2015.drop(unwanted_columns, axis=1, inplace=True)\n",
    "device2015.fillna('', inplace=True)\n",
    "\n",
    "print(f\"device2015 data frame creation complete: {device2015.shape}\")"
   ]
  },
  {
   "cell_type": "code",
   "execution_count": 6,
   "metadata": {},
   "outputs": [
    {
     "name": "stderr",
     "output_type": "stream",
     "text": [
      "b'Skipping line 11971429: expected 82 fields, saw 83\\n'\n",
      "/var/folders/12/zfq9jlbn7pj6kffqfjsrs8fc0000gp/T/ipykernel_70623/3736055871.py:8: DtypeWarning: Columns (0,1,5,6,12,13,16,17,19,20,21,22,23,24,25,26,27,28,29,30,31,32,33,34,35,36,37,38,39,40,41,42,43,44,45,46,47,48,49,50,51,52,53,54,74,78) have mixed types. Specify dtype option on import or set low_memory=False.\n",
      "  mdrfoiThru2021 = pd.read_csv(f\"{working_directory}/mdrfoiThru2021.txt\",\n"
     ]
    },
    {
     "name": "stdout",
     "output_type": "stream",
     "text": [
      "mdrfoiThru2021 data frame creation complete: (12830731, 12)\n"
     ]
    }
   ],
   "source": [
    "import pandas as pd\n",
    "import csv\n",
    "\n",
    "# Identify the working directory\n",
    "working_directory = './2015_reprocessed'\n",
    "\n",
    "# Create a dataframe for the device file\n",
    "mdrfoiThru2021 = pd.read_csv(f\"{working_directory}/mdrfoiThru2021.txt\",\n",
    "        sep=\"|\", \n",
    "        encoding=\"ISO-8859-1\", \n",
    "        on_bad_lines='warn', \n",
    "        quoting=csv.QUOTE_NONE)\n",
    "\n",
    "mdrfoiThru2021.set_index('MDR_REPORT_KEY', inplace=True)\n",
    "\n",
    "# Remove the unwanted columns from the device dataframe\n",
    "unwanted_columns = [\n",
    "    'EVENT_KEY',\n",
    "    'MANUFACTURER_LINK_FLAG_',\n",
    "    'NUMBER_PATIENTS_IN_EVENT',\n",
    "    'ADVERSE_EVENT_FLAG',\n",
    "    'PRODUCT_PROBLEM_FLAG',\n",
    "    'DATE_REPORT',\n",
    "    'DATE_OF_EVENT',\n",
    "    'REPROCESSED_AND_REUSED_FLAG',\n",
    "    'REPORTER_OCCUPATION_CODE',\n",
    "    'HEALTH_PROFESSIONAL',\n",
    "    'DATE_FACILITY_AWARE',\n",
    "    'REPORT_DATE',\n",
    "    'REPORT_TO_FDA',\n",
    "    'DATE_REPORT_TO_FDA',\n",
    "    'EVENT_LOCATION',\n",
    "    'DATE_REPORT_TO_MANUFACTURER',\n",
    "    'MANUFACTURER_CONTACT_T_NAME',\n",
    "    'MANUFACTURER_CONTACT_F_NAME',\n",
    "    'MANUFACTURER_CONTACT_L_NAME',\n",
    "    'MANUFACTURER_CONTACT_STREET_1',\n",
    "    'MANUFACTURER_CONTACT_STREET_2',\n",
    "    'MANUFACTURER_CONTACT_CITY',\n",
    "    'MANUFACTURER_CONTACT_STATE',\n",
    "    'MANUFACTURER_CONTACT_ZIP_CODE',\n",
    "    'MANUFACTURER_CONTACT_ZIP_EXT',\n",
    "    'MANUFACTURER_CONTACT_COUNTRY',\n",
    "    'MANUFACTURER_CONTACT_POSTAL',\n",
    "    'MANUFACTURER_CONTACT_AREA_CODE',\n",
    "    'MANUFACTURER_CONTACT_EXCHANGE',\n",
    "    'MANUFACTURER_CONTACT_PHONE_NO',\n",
    "    'MANUFACTURER_CONTACT_EXTENSION',\n",
    "    'MANUFACTURER_CONTACT_PCOUNTRY',\n",
    "    'MANUFACTURER_CONTACT_PCITY',\n",
    "    'MANUFACTURER_CONTACT_PLOCAL',\n",
    "    'MANUFACTURER_G1_STREET_1',\n",
    "    'MANUFACTURER_G1_STREET_2',\n",
    "    'MANUFACTURER_G1_CITY',\n",
    "    'MANUFACTURER_G1_STATE_CODE',\n",
    "    'MANUFACTURER_G1_ZIP_CODE',\n",
    "    'MANUFACTURER_G1_ZIP_CODE_EXT',\n",
    "    'MANUFACTURER_G1_COUNTRY_CODE',\n",
    "    'MANUFACTURER_G1_POSTAL_CODE',\n",
    "    'DATE_MANUFACTURER_RECEIVED',\n",
    "    'DEVICE_DATE_OF_MANUFACTURE',\n",
    "    'SINGLE_USE_FLAG',\n",
    "    'PREVIOUS_USE_CODE',\n",
    "    'REMOVAL_CORRECTION_NUMBER',\n",
    "    'DISTRIBUTOR_NAME',\n",
    "    'DISTRIBUTOR_ADDRESS_1',\n",
    "    'DISTRIBUTOR_ADDRESS_2',\n",
    "    'DISTRIBUTOR_CITY',\n",
    "    'DISTRIBUTOR_STATE_CODE',\n",
    "    'DISTRIBUTOR_ZIP_CODE',\n",
    "    'DISTRIBUTOR_ZIP_CODE_EXT',\n",
    "    'REPORT_TO_MANUFACTURER',\n",
    "    'MANUFACTURER_ADDRESS_1',\n",
    "    'MANUFACTURER_ADDRESS_2',\n",
    "    'MANUFACTURER_CITY',\n",
    "    'MANUFACTURER_STATE_CODE',\n",
    "    'MANUFACTURER_ZIP_CODE',\n",
    "    'MANUFACTURER_ZIP_CODE_EXT',\n",
    "    'MANUFACTURER_COUNTRY_CODE',\n",
    "    'MANUFACTURER_POSTAL_CODE',\n",
    "    'SOURCE_TYPE',\n",
    "    'DATE_ADDED',\n",
    "    'DATE_CHANGED',\n",
    "    'REPORTER_COUNTRY_CODE',\n",
    "    'PMA_PMN_NUM',\n",
    "    'EXEMPTION_NUMBER'\n",
    "]\n",
    "\n",
    "mdrfoiThru2021.drop(unwanted_columns, axis=1, inplace=True)\n",
    "mdrfoiThru2021.fillna('', inplace=True)\n",
    "\n",
    "print(f\"mdrfoiThru2021 data frame creation complete: {mdrfoiThru2021.shape}\")"
   ]
  },
  {
   "cell_type": "code",
   "execution_count": 7,
   "metadata": {},
   "outputs": [
    {
     "name": "stdout",
     "output_type": "stream",
     "text": [
      "mdrfoi2015 data frame creation complete: (861630, 12)\n"
     ]
    }
   ],
   "source": [
    "# Reduce the mdrfoi data to only include reports received in 2015\n",
    "mdrfoi2015 = mdrfoiThru2021[mdrfoiThru2021['DATE_RECEIVED'].str.contains('2015')]\n",
    "print(f\"mdrfoi2015 data frame creation complete: {mdrfoi2015.shape}\")"
   ]
  },
  {
   "cell_type": "code",
   "execution_count": 8,
   "metadata": {},
   "outputs": [],
   "source": [
    "# merge text with combined problem code and text\n",
    "pass1 = pd.merge(\n",
    "        foitext2015, \n",
    "        combined_foidevproblem, \n",
    "        on=\"MDR_REPORT_KEY\", \n",
    "        how=\"inner\")"
   ]
  },
  {
   "cell_type": "code",
   "execution_count": 9,
   "metadata": {},
   "outputs": [
    {
     "data": {
      "text/plain": [
       "(1771658, 7)"
      ]
     },
     "execution_count": 9,
     "metadata": {},
     "output_type": "execute_result"
    }
   ],
   "source": [
    "pass1.shape"
   ]
  },
  {
   "cell_type": "code",
   "execution_count": 10,
   "metadata": {},
   "outputs": [],
   "source": [
    "# pass1"
   ]
  },
  {
   "cell_type": "code",
   "execution_count": 11,
   "metadata": {},
   "outputs": [],
   "source": [
    "# merge text with combined problem code and text\n",
    "pass2 = pd.merge(\n",
    "        pass1, \n",
    "        device2015, \n",
    "        on=\"MDR_REPORT_KEY\", \n",
    "        how=\"inner\")"
   ]
  },
  {
   "cell_type": "code",
   "execution_count": 12,
   "metadata": {},
   "outputs": [
    {
     "data": {
      "text/plain": [
       "(1773340, 14)"
      ]
     },
     "execution_count": 12,
     "metadata": {},
     "output_type": "execute_result"
    }
   ],
   "source": [
    "pass2.shape"
   ]
  },
  {
   "cell_type": "code",
   "execution_count": 13,
   "metadata": {},
   "outputs": [],
   "source": [
    "# pass2"
   ]
  },
  {
   "cell_type": "code",
   "execution_count": 14,
   "metadata": {},
   "outputs": [],
   "source": [
    "# merge text with combined problem code and text\n",
    "pass3 = pd.merge(\n",
    "        pass2, \n",
    "        mdrfoi2015, \n",
    "        on=\"MDR_REPORT_KEY\", \n",
    "        how=\"inner\")"
   ]
  },
  {
   "cell_type": "code",
   "execution_count": 15,
   "metadata": {},
   "outputs": [
    {
     "data": {
      "text/plain": [
       "(1773340, 26)"
      ]
     },
     "execution_count": 15,
     "metadata": {},
     "output_type": "execute_result"
    }
   ],
   "source": [
    "pass3.shape"
   ]
  },
  {
   "cell_type": "code",
   "execution_count": 37,
   "metadata": {},
   "outputs": [],
   "source": [
    "# pass3"
   ]
  },
  {
   "cell_type": "code",
   "execution_count": 36,
   "metadata": {},
   "outputs": [
    {
     "data": {
      "text/plain": [
       "(12687, 2)"
      ]
     },
     "execution_count": 36,
     "metadata": {},
     "output_type": "execute_result"
    }
   ],
   "source": [
    "import pandas as pd\n",
    "\n",
    "# Identify the working directory\n",
    "working_directory = './2015_reprocessed'\n",
    "\n",
    "generic_names = pd.DataFrame(pass3['GENERIC_NAME'].value_counts(), columns=['GENERIC_NAME','COUNT'])\n",
    "\n",
    "generic_names.to_csv(f\"{working_directory}/generic_names.csv\")\n",
    "generic_names.shape"
   ]
  }
 ],
 "metadata": {
  "kernelspec": {
   "display_name": "Python 3.10.7 ('VSCode')",
   "language": "python",
   "name": "python3"
  },
  "language_info": {
   "codemirror_mode": {
    "name": "ipython",
    "version": 3
   },
   "file_extension": ".py",
   "mimetype": "text/x-python",
   "name": "python",
   "nbconvert_exporter": "python",
   "pygments_lexer": "ipython3",
   "version": "3.10.7"
  },
  "orig_nbformat": 4,
  "vscode": {
   "interpreter": {
    "hash": "0df23e0b8587652e8947bf433502af00ecfb3462d59e71e7bba71c0280b5fb19"
   }
  }
 },
 "nbformat": 4,
 "nbformat_minor": 2
}
