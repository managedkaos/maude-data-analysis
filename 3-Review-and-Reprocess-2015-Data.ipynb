{
 "cells": [
  {
   "cell_type": "code",
   "execution_count": 12,
   "metadata": {},
   "outputs": [],
   "source": [
    "import os\n",
    "\n",
    "# Identify the data directory and working directory\n",
    "data_directory = './data'\n",
    "working_directory = './2015_reprocessed'\n",
    "\n",
    "# Create the working directory if needed\n",
    "try:\n",
    "    os.makedirs(working_directory, exist_ok=True)\n",
    "except OSError as error:\n",
    "    print(f\"Error creating {working_directory}: {error}\")"
   ]
  },
  {
   "cell_type": "code",
   "execution_count": 13,
   "metadata": {},
   "outputs": [
    {
     "name": "stdout",
     "output_type": "stream",
     "text": [
      "Unzipping foidevproblem.zip\n",
      "Unzipping deviceproblemcodes.zip\n",
      "Unzip complete.\n",
      "Added headers to foidevproblem.txt\n",
      "Added headers to deviceproblemcodes.txt\n"
     ]
    }
   ],
   "source": [
    "from zipfile import ZipFile\n",
    "\n",
    "# Identify the data directory, working directory, and data files\n",
    "data_directory = './data'\n",
    "working_directory = './2015_Reprocessed'\n",
    "\n",
    "data_files = [\n",
    "    'foidevproblem.zip',       # 1\n",
    "    'deviceproblemcodes.zip',  # 2\n",
    "]\n",
    "\n",
    "# Unzip the data files into the working directory\n",
    "for i in data_files:\n",
    "    print(f\"Unzipping {i}\")\n",
    "    with ZipFile(f\"{data_directory}/{i}\", \"r\") as zip:\n",
    "        zip.extractall(f\"{working_directory}\")\n",
    "\n",
    "print(\"Unzip complete.\")\n",
    "\n",
    "# Manually add column headers to the file \"foidevproblem.txt\"\n",
    "file_being_modified = f\"{working_directory}/foidevproblem.txt\"\n",
    "with open(file_being_modified,'r') as contents:\n",
    "    save = contents.read()\n",
    "with open(file_being_modified,'w') as contents:\n",
    "    contents.write(\"MDR_REPORT_KEY|DEVICE_PROBLEM_CODE\\n\")\n",
    "with open(file_being_modified,'a') as contents:\n",
    "    contents.write(save)\n",
    "\n",
    "print(\"Added headers to foidevproblem.txt\")\n",
    "\n",
    "# Manually add column headers to the file \"deviceproblemcodes.txt\"\n",
    "file_being_modified = f\"{working_directory}/deviceproblemcodes.txt\"\n",
    "with open(file_being_modified,'r') as contents:\n",
    "    save = contents.read()\n",
    "with open(file_being_modified,'w') as contents:\n",
    "    contents.write(\"DEVICE_PROBLEM_CODE|DEVICE_PROBLEM_TEXT\\n\")\n",
    "with open(file_being_modified,'a') as contents:\n",
    "    contents.write(save)\n",
    "\n",
    "print(\"Added headers to deviceproblemcodes.txt\")"
   ]
  },
  {
   "cell_type": "code",
   "execution_count": 14,
   "metadata": {},
   "outputs": [
    {
     "name": "stdout",
     "output_type": "stream",
     "text": [
      "Unzipping foitext2015.zip\n",
      "Unzipping device2015.zip\n",
      "Unzipping mdrfoithru2021.zip\n",
      "Unzip complete.\n"
     ]
    }
   ],
   "source": [
    "from zipfile import ZipFile\n",
    "\n",
    "# Identify the data directory, working directory, and data files\n",
    "data_directory = './data'\n",
    "working_directory = './2015_Reprocessed'\n",
    "\n",
    "data_files = [\n",
    "    'foitext2015.zip',         # 3\n",
    "    'device2015.zip',          # 4\n",
    "    'mdrfoithru2021.zip'       # 5\n",
    "]\n",
    "\n",
    "# Unzip the data files into the working directory\n",
    "for i in data_files:\n",
    "    print(f\"Unzipping {i}\")\n",
    "    with ZipFile(f\"{data_directory}/{i}\", \"r\") as zip:\n",
    "        zip.extractall(f\"{working_directory}\")\n",
    "\n",
    "print(\"Unzip complete.\")\n"
   ]
  },
  {
   "cell_type": "code",
   "execution_count": 15,
   "metadata": {},
   "outputs": [],
   "source": [
    "\n",
    "import pandas as pd\n",
    "import os\n",
    "import csv\n",
    "import sqlite3\n",
    "\n",
    "# Identify the working directory\n",
    "working_directory = './2015_reprocessed'\n",
    "\n"
   ]
  }
 ],
 "metadata": {
  "kernelspec": {
   "display_name": "Python 3.10.7 ('VSCode')",
   "language": "python",
   "name": "python3"
  },
  "language_info": {
   "codemirror_mode": {
    "name": "ipython",
    "version": 3
   },
   "file_extension": ".py",
   "mimetype": "text/x-python",
   "name": "python",
   "nbconvert_exporter": "python",
   "pygments_lexer": "ipython3",
   "version": "3.10.7"
  },
  "orig_nbformat": 4,
  "vscode": {
   "interpreter": {
    "hash": "0df23e0b8587652e8947bf433502af00ecfb3462d59e71e7bba71c0280b5fb19"
   }
  }
 },
 "nbformat": 4,
 "nbformat_minor": 2
}
