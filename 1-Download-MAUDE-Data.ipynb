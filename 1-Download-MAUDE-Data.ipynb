{
 "cells": [
  {
   "cell_type": "markdown",
   "metadata": {
    "id": "ALiim7Fk5vL9"
   },
   "source": [
    "# Download the MAUDE Data"
   ]
  },
  {
   "cell_type": "markdown",
   "metadata": {
    "id": "bTQpDsyEbogP"
   },
   "source": [
    "Goals: \n",
    "1. ***(COMPLETE)*** Retrieve and list all the [MAUDE zip files on fda.gov](https://www.fda.gov/medical-devices/mandatory-reporting-requirements-manufacturers-importers-and-device-user-facilities/about-manufacturer-and-user-facility-device-experience-maude).\n",
    "\n",
    "The following Python code completes these steps:\n",
    "1. Read the entire MAUDE webpage from fda.gov\n",
    "2. The read returns one HTML table\n",
    "3. Use the Pandas library to convert the HTML table into a Pandas dataframe\n",
    "4. Drop the first row of the dataframe which is only used for formatting on the web page\n",
    "5. Rename the columns of the dataframe to include 'Description' and remove tab characters\n",
    "6. Convert total records to integer to allow math operations on record counts"
   ]
  },
  {
   "cell_type": "code",
   "execution_count": 7,
   "metadata": {},
   "outputs": [],
   "source": [
    "! pip install --requirement requirements.txt > /dev/null"
   ]
  },
  {
   "cell_type": "code",
   "execution_count": 2,
   "metadata": {
    "id": "-bs-M9jzXe6F"
   },
   "outputs": [],
   "source": [
    "import pandas as pd\n",
    "from unicodedata import normalize\n",
    "\n",
    "# Read the entire webpaage from fda.gov\n",
    "tables = pd.read_html('https://www.fda.gov/medical-devices/mandatory-reporting-requirements-manufacturers-importers-and-device-user-facilities/about-manufacturer-and-user-facility-device-experience-maude')\n",
    "\n",
    "# The read should return one table; use that as the dataframe\n",
    "df = tables[0]\n",
    "\n",
    "# Drop the first row which is only used for formatting on the web page\n",
    "df.drop(index=df.index[0],\n",
    "        axis=0,\n",
    "        inplace=True)\n",
    "\n",
    "# Rename the columns of the table to include 'Description' and remove tabs\n",
    "df.columns = [\n",
    "    'File Name',\n",
    "    'Compressed Size in Bytes',\n",
    "    'Uncompressed Size in Bytes',\n",
    "    'Total Records',\n",
    "    'Description'\n",
    "]\n",
    "\n",
    "# Convert total records to integer\n",
    "df = df.astype({'Total Records':'int'})\n"
   ]
  },
  {
   "cell_type": "markdown",
   "metadata": {
    "id": "7KVLh91D0pKb"
   },
   "source": [
    "Goals:\n",
    "1. _**(COMPLETE)**_ Print a summary of the MAUDE data\n",
    "\n",
    "The following Python code completes these steps:\n",
    "1. Print the dataframe from the previous steps"
   ]
  },
  {
   "cell_type": "code",
   "execution_count": 3,
   "metadata": {
    "colab": {
     "base_uri": "https://localhost:8080/",
     "height": 1614
    },
    "id": "jGLRrmoYp9aU",
    "outputId": "f0a40708-b3fe-40af-e9e3-676ea750699b"
   },
   "outputs": [
    {
     "data": {
      "text/html": [
       "<div>\n",
       "<style scoped>\n",
       "    .dataframe tbody tr th:only-of-type {\n",
       "        vertical-align: middle;\n",
       "    }\n",
       "\n",
       "    .dataframe tbody tr th {\n",
       "        vertical-align: top;\n",
       "    }\n",
       "\n",
       "    .dataframe thead th {\n",
       "        text-align: right;\n",
       "    }\n",
       "</style>\n",
       "<table border=\"1\" class=\"dataframe\">\n",
       "  <thead>\n",
       "    <tr style=\"text-align: right;\">\n",
       "      <th></th>\n",
       "      <th>File Name</th>\n",
       "      <th>Compressed Size in Bytes</th>\n",
       "      <th>Uncompressed Size in Bytes</th>\n",
       "      <th>Total Records</th>\n",
       "      <th>Description</th>\n",
       "    </tr>\n",
       "  </thead>\n",
       "  <tbody>\n",
       "    <tr>\n",
       "      <th>1</th>\n",
       "      <td>mdrfoi.zip</td>\n",
       "      <td>6167KB</td>\n",
       "      <td>87864KB</td>\n",
       "      <td>263604</td>\n",
       "      <td>MAUDE Base records received to date for 2022</td>\n",
       "    </tr>\n",
       "    <tr>\n",
       "      <th>2</th>\n",
       "      <td>mdrfoithru2021.zip</td>\n",
       "      <td>460013KB</td>\n",
       "      <td>4253175KB</td>\n",
       "      <td>12830703</td>\n",
       "      <td>Master Record through 2021</td>\n",
       "    </tr>\n",
       "    <tr>\n",
       "      <th>3</th>\n",
       "      <td>mdrfoiadd.zip</td>\n",
       "      <td>6276KB</td>\n",
       "      <td>90017KB</td>\n",
       "      <td>269188</td>\n",
       "      <td>New MAUDE Base records for the current month.</td>\n",
       "    </tr>\n",
       "    <tr>\n",
       "      <th>4</th>\n",
       "      <td>mdrfoichange.zip</td>\n",
       "      <td>11457KB</td>\n",
       "      <td>137162KB</td>\n",
       "      <td>421553</td>\n",
       "      <td>MAUDE Base data updates: changes to existing B...</td>\n",
       "    </tr>\n",
       "    <tr>\n",
       "      <th>5</th>\n",
       "      <td>patient.zip</td>\n",
       "      <td>669KB</td>\n",
       "      <td>7249KB</td>\n",
       "      <td>269189</td>\n",
       "      <td>MAUDE Patient records received to date for 2022</td>\n",
       "    </tr>\n",
       "    <tr>\n",
       "      <th>...</th>\n",
       "      <td>...</td>\n",
       "      <td>...</td>\n",
       "      <td>...</td>\n",
       "      <td>...</td>\n",
       "      <td>...</td>\n",
       "    </tr>\n",
       "    <tr>\n",
       "      <th>66</th>\n",
       "      <td>foitext2020.zip</td>\n",
       "      <td>193121KB</td>\n",
       "      <td>1134242KB</td>\n",
       "      <td>3039449</td>\n",
       "      <td>Narrative Data for 2020</td>\n",
       "    </tr>\n",
       "    <tr>\n",
       "      <th>67</th>\n",
       "      <td>foitext2021.zip</td>\n",
       "      <td>211070KB</td>\n",
       "      <td>1255788KB</td>\n",
       "      <td>3625862</td>\n",
       "      <td>Narrative Data for 2021</td>\n",
       "    </tr>\n",
       "    <tr>\n",
       "      <th>68</th>\n",
       "      <td>foitext.zip</td>\n",
       "      <td>18407KB</td>\n",
       "      <td>124772KB</td>\n",
       "      <td>441898</td>\n",
       "      <td>Narrative Data received to date for 2022</td>\n",
       "    </tr>\n",
       "    <tr>\n",
       "      <th>69</th>\n",
       "      <td>foitextadd.zip</td>\n",
       "      <td>8583KB</td>\n",
       "      <td>56463KB</td>\n",
       "      <td>200966</td>\n",
       "      <td>New MAUDE Narrative data for the current month.</td>\n",
       "    </tr>\n",
       "    <tr>\n",
       "      <th>70</th>\n",
       "      <td>foitextchange.zip</td>\n",
       "      <td>40075KB</td>\n",
       "      <td>236199KB</td>\n",
       "      <td>689056</td>\n",
       "      <td>Narrative data updates: changes to existing na...</td>\n",
       "    </tr>\n",
       "  </tbody>\n",
       "</table>\n",
       "<p>70 rows × 5 columns</p>\n",
       "</div>"
      ],
      "text/plain": [
       "             File Name Compressed Size in Bytes Uncompressed Size in Bytes  \\\n",
       "1           mdrfoi.zip                   6167KB                    87864KB   \n",
       "2   mdrfoithru2021.zip                 460013KB                  4253175KB   \n",
       "3        mdrfoiadd.zip                   6276KB                    90017KB   \n",
       "4     mdrfoichange.zip                  11457KB                   137162KB   \n",
       "5          patient.zip                    669KB                     7249KB   \n",
       "..                 ...                      ...                        ...   \n",
       "66     foitext2020.zip                 193121KB                  1134242KB   \n",
       "67     foitext2021.zip                 211070KB                  1255788KB   \n",
       "68         foitext.zip                  18407KB                   124772KB   \n",
       "69      foitextadd.zip                   8583KB                    56463KB   \n",
       "70   foitextchange.zip                  40075KB                   236199KB   \n",
       "\n",
       "    Total Records                                        Description  \n",
       "1          263604       MAUDE Base records received to date for 2022  \n",
       "2        12830703                         Master Record through 2021  \n",
       "3          269188      New MAUDE Base records for the current month.  \n",
       "4          421553  MAUDE Base data updates: changes to existing B...  \n",
       "5          269189    MAUDE Patient records received to date for 2022  \n",
       "..            ...                                                ...  \n",
       "66        3039449                            Narrative Data for 2020  \n",
       "67        3625862                            Narrative Data for 2021  \n",
       "68         441898           Narrative Data received to date for 2022  \n",
       "69         200966    New MAUDE Narrative data for the current month.  \n",
       "70         689056  Narrative data updates: changes to existing na...  \n",
       "\n",
       "[70 rows x 5 columns]"
      ]
     },
     "execution_count": 3,
     "metadata": {},
     "output_type": "execute_result"
    }
   ],
   "source": [
    "df"
   ]
  },
  {
   "cell_type": "markdown",
   "metadata": {
    "id": "n0arEPDRqFeu"
   },
   "source": [
    "Goals:\n",
    "1. _**(COMPLETE)**_ Download all of the MAUDE files to local storage\n",
    "\n",
    "The following Python code completes these steps:\n",
    "1. Iterate over all rows using DataFrame.iterrows()\n",
    "2. For each row, get the file name\n",
    "3. Use the file name to create a path on the local system\n",
    "4. Check to see if the file exists.  If it does, don't download it again\n",
    "5. Use the file name to create the URL for the file\n",
    "6. Download the file to the local system\n",
    "\n"
   ]
  },
  {
   "cell_type": "code",
   "execution_count": 4,
   "metadata": {
    "id": "Fl8k9OO2krTb"
   },
   "outputs": [
    {
     "name": "stdout",
     "output_type": "stream",
     "text": [
      "Downloading mdrfoi.zip\n",
      "Downloading mdrfoithru2021.zip\n",
      "Downloading mdrfoiadd.zip\n",
      "Downloading mdrfoichange.zip\n",
      "Downloading patient.zip\n",
      "Downloading patientthru2021.zip\n",
      "Downloading patientadd.zip\n",
      "Downloading patientchange.zip\n",
      "Downloading patientproblemcode.zip\n",
      "Downloading patientproblemdata.zip\n",
      "Downloading foidevthru1997.zip\n",
      "Downloading foidev1998.zip\n",
      "Downloading foidev1999.zip\n",
      "Downloading device2000.zip\n",
      "Downloading device2001.zip\n",
      "Downloading device2002.zip\n",
      "Downloading device2003.zip\n",
      "Downloading device2004.zip\n",
      "Downloading device2005.zip\n",
      "Downloading device2006.zip\n",
      "Downloading device2007.zip\n",
      "Downloading device2008.zip\n",
      "Downloading device2009.zip\n",
      "Downloading device2010.zip\n",
      "Downloading device2011.zip\n",
      "Downloading device2012.zip\n",
      "Downloading device2013.zip\n",
      "Downloading device2014.zip\n",
      "Downloading device2015.zip\n",
      "Downloading device2016.zip\n",
      "Downloading device2017.zip\n",
      "Downloading device2018.zip\n",
      "Downloading device2019.zip\n",
      "Downloading device2020.zip\n",
      "Downloading device2021.zip\n",
      "Downloading device.zip\n",
      "Downloading deviceadd.zip\n",
      "Downloading devicechange.zip\n",
      "Downloading deviceproblemcodes.zip\n",
      "Downloading foidevproblem.zip\n",
      "Downloading foitextthru1995.zip\n",
      "Downloading foitext1996.zip\n",
      "Downloading foitext1997.zip\n",
      "Downloading foitext1998.zip\n",
      "Downloading foitext1999.zip\n",
      "Downloading foitext2000.zip\n",
      "Downloading foitext2001.zip\n",
      "Downloading foitext2002.zip\n",
      "Downloading foitext2003.zip\n",
      "Downloading foitext2004.zip\n",
      "Downloading foitext2005.zip\n",
      "Downloading foitext2006.zip\n",
      "Downloading foitext2007.zip\n",
      "Downloading foitext2008.zip\n",
      "Downloading foitext2009.zip\n",
      "Downloading foitext2010.zip\n",
      "Downloading foitext2011.zip\n",
      "Downloading foitext2012.zip\n",
      "Downloading foitext2013.zip\n",
      "Downloading foitext2014.zip\n",
      "Downloading foitext2015.zip\n",
      "Downloading foitext2016.zip\n",
      "Downloading foitext2017.zip\n",
      "Downloading foitext2018.zip\n",
      "Downloading foitext2019.zip\n",
      "Downloading foitext2020.zip\n",
      "Downloading foitext2021.zip\n",
      "Downloading foitext.zip\n",
      "Downloading foitextadd.zip\n",
      "Downloading foitextchange.zip\n"
     ]
    }
   ],
   "source": [
    "from os.path import exists\n",
    "\n",
    "import os\n",
    "import urllib.request\n",
    "\n",
    "data_directory = './data'\n",
    "\n",
    "# Create the data directory if needed\n",
    "try:\n",
    "    os.makedirs(data_directory, exist_ok = True)\n",
    "except OSError as error:\n",
    "    print(f\"Error creating {data_directory}: {error}\")\n",
    "\n",
    "# Iterate all rows using DataFrame.iterrows()\n",
    "for index, row in df.iterrows():\n",
    "    file_name = row[\"File Name\"]\n",
    "    file_path = f\"{data_directory}/{file_name}\"\n",
    "    if exists(file_path):\n",
    "      print(f\"Already downloaded {file_path}; Skipping!\")\n",
    "    else:\n",
    "      print(f\"Downloading {file_name}\")\n",
    "      url=f\"https://www.accessdata.fda.gov/MAUDE/ftparea/{file_name}\"\n",
    "      urllib.request.urlretrieve(url, file_path)\n",
    " "
   ]
  },
  {
   "cell_type": "markdown",
   "metadata": {
    "id": "qPHUNTq5qVbg"
   },
   "source": [
    "Goal:\n",
    "1. List the files on the local system\n",
    "\n",
    "Steps:\n",
    "1. Use the 'ls' shell command to list the files on the local system"
   ]
  },
  {
   "cell_type": "code",
   "execution_count": 5,
   "metadata": {
    "colab": {
     "base_uri": "https://localhost:8080/"
    },
    "id": "BI0nV46WkO0u",
    "outputId": "d0a92f38-c95e-46ea-98a8-f53a645a5c97"
   },
   "outputs": [
    {
     "name": "stdout",
     "output_type": "stream",
     "text": [
      "device.zip             devicechange.zip       foitext2013.zip\n",
      "device2000.zip         deviceproblemcodes.zip foitext2014.zip\n",
      "device2001.zip         foidev1998.zip         foitext2015.zip\n",
      "device2002.zip         foidev1999.zip         foitext2016.zip\n",
      "device2003.zip         foidevproblem.zip      foitext2017.zip\n",
      "device2004.zip         foidevthru1997.zip     foitext2018.zip\n",
      "device2005.zip         foitext.zip            foitext2019.zip\n",
      "device2006.zip         foitext1996.zip        foitext2020.zip\n",
      "device2007.zip         foitext1997.zip        foitext2021.zip\n",
      "device2008.zip         foitext1998.zip        foitextadd.zip\n",
      "device2009.zip         foitext1999.zip        foitextchange.zip\n",
      "device2010.zip         foitext2000.zip        foitextthru1995.zip\n",
      "device2011.zip         foitext2001.zip        mdrfoi.zip\n",
      "device2012.zip         foitext2002.zip        mdrfoiadd.zip\n",
      "device2013.zip         foitext2003.zip        mdrfoichange.zip\n",
      "device2014.zip         foitext2004.zip        mdrfoithru2021.zip\n",
      "device2015.zip         foitext2005.zip        patient.zip\n",
      "device2016.zip         foitext2006.zip        patientadd.zip\n",
      "device2017.zip         foitext2007.zip        patientchange.zip\n",
      "device2018.zip         foitext2008.zip        patientproblemcode.zip\n",
      "device2019.zip         foitext2009.zip        patientproblemdata.zip\n",
      "device2020.zip         foitext2010.zip        patientthru2021.zip\n",
      "device2021.zip         foitext2011.zip\n",
      "deviceadd.zip          foitext2012.zip\n"
     ]
    }
   ],
   "source": [
    "! ls ./data"
   ]
  },
  {
   "cell_type": "markdown",
   "metadata": {
    "id": "RyK0PU_eJeFi",
    "tags": []
   },
   "source": [
    "# Observations and Research\n",
    "There are four different types of files with MAUDE data:\n",
    "1. Master event data : `mdrfoithru2021.zip`\n",
    "2. Patient data: `patient...`\n",
    "3. Device data: `device...`\n",
    "4. Text data: `foitext...`\n",
    "\n",
    "All reports are linked via the `MDR Report Key`.\n",
    "\n",
    "This paper provides some additional insight on massaging the raw MAUDE data into useful formats:\n",
    "- [A Primer to the Structure, Content and Linkage of the FDA’s Manufacturer and User Facility Device Experience (MAUDE) Files](https://www.ncbi.nlm.nih.gov/pmc/articles/PMC5994953/)\n",
    "\n",
    "The [MAUDE data page](https://www.fda.gov/medical-devices/mandatory-reporting-requirements-manufacturers-importers-and-device-user-facilities/about-manufacturer-and-user-facility-device-experience-maude) also provides information that can be used to develop a schema for importing the data into a modern database that supports queries.\n",
    "\n",
    "This video had good info on running Jupyter notebooks on AWS:  \n",
    "- [Serverless Jupyter on AWS: Fully Managed Notebook Environments](https://www.youtube.com/watch?v=-k53AcgVHTI&ab_channel=AWSPublicSector)\n",
    "\n",
    "Running the notebook on a dedicated server in AWS will allow faster runtimes and persistent storage.  This is in comparison to running on shared resources in Google Colab where the data will need to be downloaded and reingested for each run which will lead to long run times.\n",
    "\n",
    "\n"
   ]
  },
  {
   "cell_type": "markdown",
   "metadata": {
    "id": "qCU6De0wEVfB"
   },
   "source": [
    "# Next Steps\n",
    "1. Set up an AWS account to host a dedicated Jupyter notebook server\n",
    "2. Migrate the 'Download' notebook to the AWS server\n",
    "3. Run the 'Download' notebook in the AWS environment and begin processing the data files\n",
    "4. Extract and concatenate the data for 2015 to build the database schema"
   ]
  },
  {
   "cell_type": "markdown",
   "metadata": {
    "id": "UTi1gtcKGn05"
   },
   "source": [
    "# Summary\n",
    "1. A Jupyter notebook has been developed to download MAUDE data from fda.gov\n",
    "2. The Google Colab envirionment is suitable for running the notebook and viewing the downloaded files.\n",
    "3. However, the shared Colab environment resulted in slow downloads.  In addition, the data is not saved permanently.\n",
    "4. A dedicated environment needs to be created which will allow faster runs of the notebook and permanent storage.  The dedicated server will be created in the AWS cloud.\n",
    "5. Next steps include processing data for 2015 to develop a database schema."
   ]
  }
 ],
 "metadata": {
  "colab": {
   "collapsed_sections": [],
   "provenance": []
  },
  "kernelspec": {
   "display_name": "Python 3.10.6 ('maude-exploration')",
   "language": "python",
   "name": "python3"
  },
  "language_info": {
   "codemirror_mode": {
    "name": "ipython",
    "version": 3
   },
   "file_extension": ".py",
   "mimetype": "text/x-python",
   "name": "python",
   "nbconvert_exporter": "python",
   "pygments_lexer": "ipython3",
   "version": "3.10.6"
  },
  "vscode": {
   "interpreter": {
    "hash": "be31a8e66205703efc44813ab3f9c2361f166c376225ae07c387a026f6c04a10"
   }
  }
 },
 "nbformat": 4,
 "nbformat_minor": 4
}
