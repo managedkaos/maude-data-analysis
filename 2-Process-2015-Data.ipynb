{
 "cells": [
  {
   "cell_type": "markdown",
   "metadata": {},
   "source": [
    "# Process 2015 Data\n",
    "\n",
    "Goals:\n",
    "- Use the 2015 MAUDE data to create a sample dataset for experimentation\n",
    "\n",
    "Steps:\n",
    "1. Identify all common data files\n",
    "\n",
    "|File|Description|Required|\n",
    "|---|---|---|\n",
    "|`mdrfoithru2021.zip`|Master Record through 2021|X|\n",
    "|`patientthru2021.zip`|Patient Record through 2021|X|\n",
    "|`foitextchange.zip`|Narrative data updates: changes to existing narrative data and additional narrative data for existing base records|X|\n",
    "|`patientproblemcode.zip`|Device Data for patientproblemcode||\n",
    "|`patientproblemdata.zip`|Patient Problem Data||\n",
    "|`patientchange.zip`|MAUDE Patient data updates: changes to existing Base data||\n",
    "|`mdrfoichange.zip`|MAUDE Base data updates: changes to existing Base data||\n",
    "|`devicechange.zip`|Device data updates: changes to existing Device data and additional Device data for existing Base records||\n",
    "|`deviceproblemcodes.zip`|Device Problem Data||\n",
    "|`foidevproblem.zip`|Device Data for foidevproblem||\n",
    "\n",
    "2. Identify all 2015 data files\n",
    "\n",
    "|File|Description|Required|\n",
    "|---|---|---|\n",
    "|`device2015.zip`|Device Data for 2015|X|\n",
    "|`foitext2015.zip`|Narrative Data for 2015|X|\n",
    "\n",
    "3. Create databases for each data type\n",
    "4. Create a merged dataset using joins for each Master Data Record ID in the 2015 data"
   ]
  },
  {
   "cell_type": "code",
   "execution_count": null,
   "metadata": {},
   "outputs": [],
   "source": []
  }
 ],
 "metadata": {
  "kernelspec": {
   "display_name": "Python 3.10.6 ('VSCode')",
   "language": "python",
   "name": "python3"
  },
  "language_info": {
   "name": "python",
   "version": "3.10.6"
  },
  "orig_nbformat": 4,
  "vscode": {
   "interpreter": {
    "hash": "0df23e0b8587652e8947bf433502af00ecfb3462d59e71e7bba71c0280b5fb19"
   }
  }
 },
 "nbformat": 4,
 "nbformat_minor": 2
}
